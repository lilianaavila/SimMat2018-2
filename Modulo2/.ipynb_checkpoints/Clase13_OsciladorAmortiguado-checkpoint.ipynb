{
 "cells": [
  {
   "cell_type": "markdown",
   "metadata": {},
   "source": [
    "# ¿Cómo funciona la suspensión de un auto?\n",
    " \n",
    "\n",
    "<div>\n",
    "<img style=\"float: left; margin: 0px 0px 15px 0px;\" src=\"https://upload.wikimedia.org/wikipedia/commons/thumb/c/ce/Packard_wishbone_front_suspension_%28Autocar_Handbook%2C_13th_ed%2C_1935%29.jpg/414px-Packard_wishbone_front_suspension_%28Autocar_Handbook%2C_13th_ed%2C_1935%29.jpg\" width=\"150px\" height=\"50px\" />\n",
    "\n",
    "<img style=\"float: center; margin: 0px 0px 15px 15px;\" src=\"https://upload.wikimedia.org/wikipedia/commons/d/df/Radaufhängung_Renault.JPG\" width=\"150px\" height=\"100px\" />\n",
    "\n",
    "</div>\n",
    " \n",
    "> Una primer aproximación al modelo de la suspensión de un automovil es considerar el *oscilador armónico amortiguado*. \n",
    "\n",
    "<img style=\"float: center; margin: 0px 0px 15px 0px;\" src=\"https://upload.wikimedia.org/wikipedia/commons/4/45/Mass_spring_damper.svg\" width=\"300px\" height=\"100px\" />\n",
    "\n",
    "Referencia: \n",
    "- https://es.wikipedia.org/wiki/Oscilador_arm%C3%B3nico#Oscilador_arm.C3.B3nico_amortiguado"
   ]
  },
  {
   "cell_type": "markdown",
   "metadata": {},
   "source": [
    "Un **modelo** que describe el comportamiento del sistema mecánico anterior es\n",
    "\n",
    "\\begin{equation}\n",
    "m\\frac{d^2 x}{dt^2}=-c\\frac{dx}{dt}-kx\n",
    "\\end{equation}\n",
    "\n",
    "donde $c$ es la constante de amortiguamiento y $k$ es la constante de elasticidad. <font color=red> Revisar modelado </font>"
   ]
  },
  {
   "cell_type": "markdown",
   "metadata": {},
   "source": [
    "Documentación de los paquetes que utilizaremos hoy.\n",
    "- https://docs.scipy.org/doc/scipy/reference/generated/scipy.integrate.odeint.html\n",
    "- https://docs.scipy.org/doc/scipy/reference/index.html"
   ]
  },
  {
   "cell_type": "markdown",
   "metadata": {},
   "source": [
    "___\n",
    "En `python` existe una función llamada <font color = blue>_odeint_</font> del paquete <font color = blue>_integrate_</font> de la libreria <font color = blue>_scipy_</font>, que permite integrar sistemas vectoriales de primer orden, del tipo\n",
    "\n",
    "\\begin{equation}\n",
    "\\frac{d\\boldsymbol{y}}{dt} = \\boldsymbol{f}(t,\\boldsymbol{y}); \\qquad \\text{ con }\\quad \\boldsymbol{y}\\in\\mathbb{R}^n,\\quad \\boldsymbol{f}:\\mathbb{R}_{+}\\times\\mathbb{R}^n\\to\\mathbb{R}^n\n",
    "\\end{equation}\n",
    "\n",
    "con condiciones iniciales $\\boldsymbol{y}(0) = \\boldsymbol{y}_{0}$. Notar que <font color=red> $\\boldsymbol{y}$ representa un vector de $n$ componentes</font>.\n",
    "\n",
    "Ahora, si nos fijamos bien, el modelo del *oscilador armónico amortiguado* que obtuvimos es una ecuación diferencial ordinaria (EDO) de segundo orden. No hay problema. La podemos convertir en un sistema de ecuaciones de primer orden de la siguiente manera:\n",
    "\n",
    "1. Seleccionamos el vector $\\boldsymbol{y}=\\left[y_1\\quad y_2\\right]^T$, con $y_1=x$ y $y_2=\\frac{dx}{dt}$.\n",
    "2. Notamos que $\\frac{dy_1}{dt}=\\frac{dx}{dt}=y_2$ y $\\frac{dy_2}{dt}=\\frac{d^2x}{dt^2}=-\\frac{c}{m}\\frac{dx}{dt}-\\frac{k}{m}x=-\\frac{c}{m}y_2-\\frac{k}{m}y_1$.\n",
    "3. Entonces, el modelo de segundo orden lo podemos representar como el siguiente sistema vectorial de primer orden:\n",
    "\n",
    "\\begin{equation}\n",
    "\\frac{d\\boldsymbol{y}}{dt}=\\left[\\begin{array}{c}\\frac{dy_1}{dt} \\\\ \\frac{dy_2}{dt}\\end{array}\\right]=\\left[\\begin{array}{c}y_2 \\\\ -\\frac{k}{m}y_1-\\frac{c}{m}y_2\\end{array}\\right]=\\left[\\begin{array}{cc}0 & 1 \\\\-\\frac{k}{m} & -\\frac{c}{m}\\end{array}\\right]\\boldsymbol{y}.\n",
    "\\end{equation}"
   ]
  },
  {
   "cell_type": "code",
   "execution_count": 1,
   "metadata": {},
   "outputs": [],
   "source": [
    "# Primero importamos todas las librerias, paquetes y/o funciones que vamos a utlizar\n",
    "            "
   ]
  },
  {
   "cell_type": "code",
   "execution_count": 8,
   "metadata": {},
   "outputs": [],
   "source": [
    "# Definimos los parámetros k, m y B\n",
    "k, m, B = 3, 1, 0.5\n",
    "\n",
    "# Función f(t,y) que vamos a integrar\n",
    "\n",
    "\n",
    "# Condiciones iniciales\n",
    "\n",
    "\n",
    "# Especificamos los puntos de tiempo donde queremos la solución\n",
    "\n",
    "\n",
    "# Solución numérica\n",
    "\n"
   ]
  },
  {
   "cell_type": "markdown",
   "metadata": {},
   "source": [
    "¿Cómo entrega odeint las soluciones?"
   ]
  },
  {
   "cell_type": "code",
   "execution_count": 2,
   "metadata": {},
   "outputs": [],
   "source": [
    "# Averiguar la forma de solución\n"
   ]
  },
  {
   "cell_type": "code",
   "execution_count": 4,
   "metadata": {},
   "outputs": [],
   "source": [
    "# Mostrar la solución \n"
   ]
  },
  {
   "cell_type": "markdown",
   "metadata": {},
   "source": [
    "- $yy$ es una matriz de n filas y 2 columnas.\n",
    "- La primer columna de $yy$ corresponde a $y_1$.\n",
    "- La segunda columna de $yy$ corresponde a $y_2$.\n",
    "\n",
    "¿Cómo extraemos los resultados $y_1$ y $y_2$ independientemente?"
   ]
  },
  {
   "cell_type": "code",
   "execution_count": 5,
   "metadata": {},
   "outputs": [],
   "source": [
    "# Extraer y1 y y2\n"
   ]
  },
  {
   "cell_type": "markdown",
   "metadata": {},
   "source": [
    "### Para hacer participativamente...\n",
    "- Graficar en una misma ventana $y_1$ vs. $t$ y $y_2$ vs. $t$... ¿qué pueden observar?"
   ]
  },
  {
   "cell_type": "code",
   "execution_count": 6,
   "metadata": {},
   "outputs": [],
   "source": [
    "# Gráfica\n"
   ]
  },
  {
   "cell_type": "markdown",
   "metadata": {},
   "source": [
    "- Graficar $y_2/\\omega_0$ vs. $y_1$... ¿cómo se complementan estos gráficos? ¿conclusiones?"
   ]
  },
  {
   "cell_type": "code",
   "execution_count": 7,
   "metadata": {},
   "outputs": [],
   "source": [
    "# Gráfica\n"
   ]
  },
  {
   "cell_type": "markdown",
   "metadata": {
    "collapsed": true
   },
   "source": [
    "## Dependiendo de los parámetros, 3 tipos de soluciones"
   ]
  },
  {
   "cell_type": "markdown",
   "metadata": {},
   "source": [
    "Teníamos\n",
    "\\begin{equation}\n",
    "m\\frac{d^2 x}{dt^2} + c\\frac{dx}{dt} + kx = 0\n",
    "\\end{equation}"
   ]
  },
  {
   "cell_type": "markdown",
   "metadata": {},
   "source": [
    "si recordamos que $\\omega_0 ^2 = \\frac{k}{m}$ y definimos $\\frac{c}{m}\\equiv 2\\Gamma$, tendremos\n",
    "\n",
    "\\begin{equation}\n",
    "\\frac{d^2 x}{dt^2} + 2\\Gamma \\frac{dx}{dt}+ \\omega_0^2 x = 0\n",
    "\\end{equation}"
   ]
  },
  {
   "cell_type": "markdown",
   "metadata": {},
   "source": [
    "<font color=blue>El comportamiento viene determinado por las raices de la ecuación característica. Ver en el tablero...</font>"
   ]
  },
  {
   "cell_type": "markdown",
   "metadata": {},
   "source": [
    "### Subamortiguado"
   ]
  },
  {
   "cell_type": "markdown",
   "metadata": {},
   "source": [
    "Si $\\omega_0^2 > \\Gamma^2$ se tiene movimiento oscilatorio *subamortiguado*. "
   ]
  },
  {
   "cell_type": "code",
   "execution_count": 16,
   "metadata": {},
   "outputs": [],
   "source": [
    "omega0 = k/m\n",
    "Gamma = B/(2*m)"
   ]
  },
  {
   "cell_type": "code",
   "execution_count": 17,
   "metadata": {},
   "outputs": [
    {
     "data": {
      "text/plain": [
       "(9.0, 0.0625)"
      ]
     },
     "execution_count": 17,
     "metadata": {},
     "output_type": "execute_result"
    }
   ],
   "source": [
    "omega0**2, Gamma**2"
   ]
  },
  {
   "cell_type": "code",
   "execution_count": 18,
   "metadata": {},
   "outputs": [
    {
     "data": {
      "text/plain": [
       "True"
      ]
     },
     "execution_count": 18,
     "metadata": {},
     "output_type": "execute_result"
    }
   ],
   "source": [
    "omega0**2 > Gamma**2"
   ]
  },
  {
   "cell_type": "markdown",
   "metadata": {},
   "source": [
    "Entonces, el primer caso que ya habíamos presentado corresponde a movimiento amortiguado. "
   ]
  },
  {
   "cell_type": "code",
   "execution_count": 9,
   "metadata": {},
   "outputs": [],
   "source": [
    "# Gráfica, de nuevo\n"
   ]
  },
  {
   "cell_type": "markdown",
   "metadata": {},
   "source": [
    "### Sobreamortiguado"
   ]
  },
  {
   "cell_type": "markdown",
   "metadata": {},
   "source": [
    "Si $\\omega_0^2 < \\Gamma^2$ se tiene movimiento oscilatorio *sobreamortiguado*. "
   ]
  },
  {
   "cell_type": "code",
   "execution_count": 10,
   "metadata": {},
   "outputs": [],
   "source": [
    "# Nuevas constantes \n",
    "k = .1 # Constante del muelle\n",
    "m = 1.0   # Masa\n",
    "B = 1 # Constante de amortiguación"
   ]
  },
  {
   "cell_type": "markdown",
   "metadata": {},
   "source": [
    "Simular y graficar..."
   ]
  },
  {
   "cell_type": "code",
   "execution_count": 26,
   "metadata": {},
   "outputs": [],
   "source": [
    "omega0 = np.sqrt(k/m)\n",
    "Gamma = B/(2*m)"
   ]
  },
  {
   "cell_type": "code",
   "execution_count": 27,
   "metadata": {},
   "outputs": [
    {
     "data": {
      "text/plain": [
       "(0.10000000000000001, 0.25)"
      ]
     },
     "execution_count": 27,
     "metadata": {},
     "output_type": "execute_result"
    }
   ],
   "source": [
    "omega0**2, Gamma**2"
   ]
  },
  {
   "cell_type": "code",
   "execution_count": 28,
   "metadata": {},
   "outputs": [
    {
     "data": {
      "text/plain": [
       "True"
      ]
     },
     "execution_count": 28,
     "metadata": {},
     "output_type": "execute_result"
    }
   ],
   "source": [
    "omega0**2<Gamma**2"
   ]
  },
  {
   "cell_type": "code",
   "execution_count": 12,
   "metadata": {},
   "outputs": [],
   "source": [
    "# Simular\n"
   ]
  },
  {
   "cell_type": "code",
   "execution_count": 11,
   "metadata": {},
   "outputs": [],
   "source": [
    "# Graficar\n"
   ]
  },
  {
   "cell_type": "markdown",
   "metadata": {},
   "source": [
    "### Amortiguamiento crítico"
   ]
  },
  {
   "cell_type": "markdown",
   "metadata": {},
   "source": [
    "Si $\\omega_0^2 = \\Gamma^2$ se tiene movimiento *críticamente amortiguado*. "
   ]
  },
  {
   "cell_type": "code",
   "execution_count": 13,
   "metadata": {},
   "outputs": [],
   "source": [
    "# Nuevas constantes\n",
    "k = .0625 # Constante del muelle\n",
    "m = 1.0   # Masa\n",
    "B = .5 # Constante de amortiguación"
   ]
  },
  {
   "cell_type": "markdown",
   "metadata": {},
   "source": [
    "Simular y graficar..."
   ]
  },
  {
   "cell_type": "code",
   "execution_count": 39,
   "metadata": {},
   "outputs": [],
   "source": [
    "omega0 = np.sqrt(k/m)\n",
    "Gamma = B/(2*m)"
   ]
  },
  {
   "cell_type": "code",
   "execution_count": 40,
   "metadata": {},
   "outputs": [
    {
     "data": {
      "text/plain": [
       "(0.0625, 0.0625)"
      ]
     },
     "execution_count": 40,
     "metadata": {},
     "output_type": "execute_result"
    }
   ],
   "source": [
    "omega0**2, Gamma**2"
   ]
  },
  {
   "cell_type": "code",
   "execution_count": 41,
   "metadata": {},
   "outputs": [
    {
     "data": {
      "text/plain": [
       "True"
      ]
     },
     "execution_count": 41,
     "metadata": {},
     "output_type": "execute_result"
    }
   ],
   "source": [
    "omega0**2 == Gamma**2"
   ]
  },
  {
   "cell_type": "code",
   "execution_count": 14,
   "metadata": {},
   "outputs": [],
   "source": [
    "# Simular\n"
   ]
  },
  {
   "cell_type": "code",
   "execution_count": 15,
   "metadata": {},
   "outputs": [],
   "source": [
    "# Graficar\n"
   ]
  },
  {
   "cell_type": "markdown",
   "metadata": {},
   "source": [
    "En resumen, se tiene entonces: "
   ]
  },
  {
   "cell_type": "code",
   "execution_count": 52,
   "metadata": {},
   "outputs": [
    {
     "data": {
      "image/png": "[encoded data removed]",
      "text/plain": [
       "<matplotlib.figure.Figure at 0x1c7ddab0128>"
      ]
     },
     "metadata": {},
     "output_type": "display_data"
    }
   ],
   "source": [
    "fig, ((ax1, ax2, ax3), (ax4, ax5, ax6)) = plt.subplots(2, 3, sharex='col',\n",
    "                                                       sharey='row',figsize =(10,6))\n",
    "ax1.plot(tt, y1, c = 'k') \n",
    "ax1.set_title('Amortiguado', fontsize = 14)\n",
    "ax1.set_ylabel('Posición', fontsize = 14)\n",
    "ax2.plot(tt, y1s, c = 'b') \n",
    "ax2.set_title('Sobreamortiguado', fontsize = 14)\n",
    "ax3.plot(tt, y1c, c = 'r') \n",
    "ax3.set_title('Crítico', fontsize = 16)\n",
    "ax4.plot(tt, y2, c = 'k')\n",
    "ax4.set_ylabel('Velocidad', fontsize = 14)\n",
    "ax4.set_xlabel('tiempo', fontsize = 14)\n",
    "ax5.plot(tt, y2s, c = 'b')\n",
    "ax5.set_xlabel('tiempo', fontsize = 14)\n",
    "ax6.plot(tt, y2c, c = 'r')\n",
    "ax6.set_xlabel('tiempo', fontsize = 14)\n",
    "plt.show()"
   ]
  },
  {
   "cell_type": "markdown",
   "metadata": {},
   "source": [
    "> **Tarea**. ¿Cómo se ve el espacio fase para los diferentes casos así como para diferentes condiciones iniciales?\n",
    "\n",
    "> En un gráfico como el anterior, realizar gráficas del plano fase para los distintos movimientos y para cuatro conjuntos de condiciones iniciales distintas\n",
    "- y0 = [1, 1]\n",
    "- y0 = [1, -1]\n",
    "- y0 = [-1, 1]\n",
    "- y0 = [-1, -1]\n",
    "\n",
    "Hacer lo anterior en un nuevo notebook de jupyter llamado Tarea7_ApellidoNombre.ipynb y subir en el espacio habilitado."
   ]
  },
  {
   "cell_type": "markdown",
   "metadata": {},
   "source": [
    "<script>\n",
    "  $(document).ready(function(){\n",
    "    $('div.prompt').hide();\n",
    "    $('div.back-to-top').hide();\n",
    "    $('nav#menubar').hide();\n",
    "    $('.breadcrumb').hide();\n",
    "    $('.hidden-print').hide();\n",
    "  });\n",
    "</script>\n",
    "\n",
    "<footer id=\"attribution\" style=\"float:right; color:#808080; background:#fff;\">\n",
    "Created with Jupyter by Lázaro Alonso. Modified by Esteban Jiménez Rodríguez.\n",
    "</footer>"
   ]
  }
 ],
 "metadata": {
  "anaconda-cloud": {},
  "kernelspec": {
   "display_name": "Python 3",
   "language": "python",
   "name": "python3"
  },
  "language_info": {
   "codemirror_mode": {
    "name": "ipython",
    "version": 3
   },
   "file_extension": ".py",
   "mimetype": "text/x-python",
   "name": "python",
   "nbconvert_exporter": "python",
   "pygments_lexer": "ipython3",
   "version": "3.6.5"
  }
 },
 "nbformat": 4,
 "nbformat_minor": 1
}
